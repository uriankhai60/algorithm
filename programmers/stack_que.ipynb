{
 "cells": [
  {
   "cell_type": "markdown",
   "id": "dea41a6a",
   "metadata": {},
   "source": [
    "## 같은 숫자는 싫어(1,0)\n",
    "[문제 링크](https://school.programmers.co.kr/learn/courses/30/lessons/12906)  "
   ]
  },
  {
   "cell_type": "code",
   "execution_count": null,
   "id": "c23a5ab2",
   "metadata": {},
   "outputs": [],
   "source": [
    "from collections import deque\n",
    "\n",
    "def solution(arr):\n",
    "    dq = deque(arr)\n",
    "    \n",
    "    answer = []\n",
    "    cache = None\n",
    "    \n",
    "    while dq:\n",
    "        if cache is None:\n",
    "            cache = dq.popleft()\n",
    "            answer.append(cache)\n",
    "            continue\n",
    "        \n",
    "        pick = dq.popleft()\n",
    "        \n",
    "        if pick == cache:\n",
    "            continue\n",
    "        else: # pick != cache\n",
    "            answer.append(pick)\n",
    "            cache = pick\n",
    "\n",
    "    return answer"
   ]
  }
 ],
 "metadata": {
  "kernelspec": {
   "display_name": "venv",
   "language": "python",
   "name": "python3"
  },
  "language_info": {
   "name": "python",
   "version": "3.11.10"
  }
 },
 "nbformat": 4,
 "nbformat_minor": 5
}
