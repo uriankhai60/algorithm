{
 "cells": [
  {
   "cell_type": "markdown",
   "id": "dea41a6a",
   "metadata": {},
   "source": [
    "## 같은 숫자는 싫어(1,0)\n",
    "[문제 링크](https://school.programmers.co.kr/learn/courses/30/lessons/12906)  "
   ]
  },
  {
   "cell_type": "code",
   "execution_count": null,
   "id": "c23a5ab2",
   "metadata": {},
   "outputs": [],
   "source": [
    "from collections import deque\n",
    "\n",
    "def solution(arr):\n",
    "    dq = deque(arr)\n",
    "    \n",
    "    answer = []\n",
    "    cache = None\n",
    "    \n",
    "    while dq:\n",
    "        if cache is None:\n",
    "            cache = dq.popleft()\n",
    "            answer.append(cache)\n",
    "            continue\n",
    "        \n",
    "        pick = dq.popleft()\n",
    "        \n",
    "        if pick == cache:\n",
    "            continue\n",
    "        else: # pick != cache\n",
    "            answer.append(pick)\n",
    "            cache = pick\n",
    "\n",
    "    return answer"
   ]
  },
  {
   "cell_type": "markdown",
   "id": "98fdb483",
   "metadata": {},
   "source": [
    "## 기능개발(1,0)\n",
    "[문제 링크](https://school.programmers.co.kr/learn/courses/30/lessons/42586)  "
   ]
  },
  {
   "cell_type": "code",
   "execution_count": 1,
   "id": "3f620202",
   "metadata": {},
   "outputs": [],
   "source": [
    "import math\n",
    "from collections import deque\n",
    "\n",
    "def solution(progresses, speeds):\n",
    "    remain_times = [math.ceil((100-p)/s) for p, s in zip(progresses, speeds)]\n",
    "    dq = deque(remain_times)\n",
    "    \n",
    "    cnt = 1\n",
    "    b = dq.popleft()\n",
    "    answer = []\n",
    "    while dq:\n",
    "        p = dq.popleft()\n",
    "        if b >= p:\n",
    "            cnt+=1\n",
    "            continue\n",
    "        else:\n",
    "            b = p\n",
    "            answer.append(cnt)\n",
    "            cnt = 1\n",
    "        \n",
    "    answer.append(cnt)\n",
    "    return answer"
   ]
  },
  {
   "cell_type": "markdown",
   "id": "2b8e5529",
   "metadata": {},
   "source": [
    "## 올바른 괄호(1,0)\n",
    "[문제 링크](https://school.programmers.co.kr/learn/courses/30/lessons/12909)  "
   ]
  },
  {
   "cell_type": "code",
   "execution_count": 2,
   "id": "e2804d65",
   "metadata": {},
   "outputs": [],
   "source": [
    "from collections import deque\n",
    "\n",
    "def solution(s):\n",
    "    dq = deque(s)\n",
    "    answer = []\n",
    "    while dq:\n",
    "        c = dq.popleft()\n",
    "        if c == '(':\n",
    "            answer.append(c)\n",
    "        elif c == ')' and len(answer)==0:\n",
    "            return False\n",
    "        else:\n",
    "            answer.pop()\n",
    "    if len(answer) == 0:\n",
    "        return True\n",
    "    else:\n",
    "        return False"
   ]
  },
  {
   "cell_type": "markdown",
   "id": "278f9f95",
   "metadata": {},
   "source": [
    "## 프로세스(1,0)\n",
    "[문제 링크](https://school.programmers.co.kr/learn/courses/30/lessons/42587)  "
   ]
  },
  {
   "cell_type": "code",
   "execution_count": null,
   "id": "f55ea296",
   "metadata": {},
   "outputs": [],
   "source": [
    "# location=index에 해당하는 item이 몇번째로 실행되는가?\n",
    "from collections import deque\n",
    "\n",
    "def solution(priorities, location):\n",
    "    combines = [(priority, idx) for (idx, priority) in enumerate(priorities)]\n",
    "    dq = deque(combines)\n",
    "    \n",
    "    cnt = 0\n",
    "    while dq:\n",
    "        pick = dq.popleft()\n",
    "        priority, idx = pick\n",
    "        \n",
    "        tag = False\n",
    "        for p, i in dq:\n",
    "            if p>priority:\n",
    "                tag=True\n",
    "                break\n",
    "        \n",
    "        if tag:\n",
    "            dq.append(pick)\n",
    "        else:\n",
    "            cnt+=1\n",
    "            if idx == location:\n",
    "                return cnt\n",
    "        \n",
    "    answer = cnt\n",
    "    return answer"
   ]
  }
 ],
 "metadata": {
  "kernelspec": {
   "display_name": "venv",
   "language": "python",
   "name": "python3"
  },
  "language_info": {
   "codemirror_mode": {
    "name": "ipython",
    "version": 3
   },
   "file_extension": ".py",
   "mimetype": "text/x-python",
   "name": "python",
   "nbconvert_exporter": "python",
   "pygments_lexer": "ipython3",
   "version": "3.11.10"
  }
 },
 "nbformat": 4,
 "nbformat_minor": 5
}
