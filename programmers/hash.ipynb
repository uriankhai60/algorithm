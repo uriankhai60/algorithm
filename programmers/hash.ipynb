{
 "cells": [
  {
   "cell_type": "markdown",
   "id": "e9738dcc",
   "metadata": {},
   "source": [
    "## 완주하지 못한 선수(1,0)  \n",
    "[문제 링크](https://school.programmers.co.kr/learn/courses/30/lessons/42576)  "
   ]
  },
  {
   "cell_type": "code",
   "execution_count": null,
   "id": "1418b757",
   "metadata": {},
   "outputs": [],
   "source": [
    "def solution(participant, completion):\n",
    "    hash = dict()\n",
    "    \n",
    "    for name in participant: # N\n",
    "        if name not in hash.keys():\n",
    "            hash[name] = 1\n",
    "        else:\n",
    "            hash[name] += 1\n",
    "    \n",
    "    for name in completion: # N\n",
    "        hash[name] -= 1\n",
    "            \n",
    "    answer = [k for k,v in hash.items() if v==1] # N\n",
    "\n",
    "    answer = answer[0]\n",
    "    return answer\n",
    "\n",
    "# 시간복잡도 O(3N) =  O(N)"
   ]
  },
  {
   "cell_type": "markdown",
   "id": "d46b285a",
   "metadata": {},
   "source": [
    "## 폰켓몬(1,0)\n",
    "[문제 링크](https://school.programmers.co.kr/learn/courses/30/lessons/1845)  "
   ]
  },
  {
   "cell_type": "code",
   "execution_count": null,
   "id": "ad07583f",
   "metadata": {},
   "outputs": [],
   "source": [
    "def solution(nums):\n",
    "    n_pick = len(nums)//2\n",
    "    unique_num = set(nums) # 복잡도 N\n",
    "    \n",
    "    if n_pick <= len(unique_num):\n",
    "        return n_pick\n",
    "    else:\n",
    "        return len(unique_num)"
   ]
  },
  {
   "cell_type": "markdown",
   "id": "f8678ed0",
   "metadata": {},
   "source": [
    "## 전화번호 목록(0,1)\n",
    "[문제 링크](https://school.programmers.co.kr/learn/courses/30/lessons/42577)  "
   ]
  },
  {
   "cell_type": "code",
   "execution_count": null,
   "id": "981db586",
   "metadata": {},
   "outputs": [],
   "source": [
    "# 시간복잡도에서 틀린 문제 풀이\n",
    "def solution(phone_book):\n",
    "    sorted_phone_book = sorted(phone_book) # nlogn\n",
    "    num_idx = len(sorted_phone_book)\n",
    "\n",
    "    # 이중루프 n**2\n",
    "    for idx, item in enumerate(sorted_phone_book):\n",
    "        if idx == num_idx-1:\n",
    "            return True\n",
    "        for v in sorted_phone_book[idx+1:]:\n",
    "            if len(item) > len(v):\n",
    "                continue\n",
    "            else:\n",
    "                if item in v[:len(item)]:\n",
    "                    return False\n",
    "\n",
    "'''\n",
    "발상을 바꿔야함. 다음것만 검사하면 됨.\n",
    "접두사 검사도 b.startswith(a)로 체크하면 됨.\n",
    "'''\n",
    "\n",
    "def solution(phone_book):\n",
    "    sorted_phone_book = sorted(phone_book)\n",
    "    \n",
    "    for a,b in zip(sorted_phone_book, sorted_phone_book[1:]):\n",
    "        if b.startswith(a):\n",
    "            return False\n",
    "    return True"
   ]
  },
  {
   "cell_type": "markdown",
   "id": "1df9440f",
   "metadata": {},
   "source": [
    "## 의상(1,0)\n",
    "[문제 링크](https://school.programmers.co.kr/learn/courses/30/lessons/42578)  "
   ]
  },
  {
   "cell_type": "code",
   "execution_count": null,
   "id": "ff45045d",
   "metadata": {},
   "outputs": [],
   "source": [
    "def solution(clothes):\n",
    "    my_clothes = dict()\n",
    "    for cloth in clothes: # N\n",
    "        category = cloth[1]\n",
    "        name = cloth[0]\n",
    "        \n",
    "        if category not in my_clothes.keys():\n",
    "            my_clothes[category] = [name]\n",
    "        else:\n",
    "            my_clothes[category].append(name)\n",
    "    \n",
    "    answer = 1\n",
    "    \n",
    "    for items in my_clothes.values(): # N\n",
    "        answer = answer*(len(items)+1)\n",
    "    \n",
    "    answer -= 1\n",
    "    return answer"
   ]
  },
  {
   "cell_type": "markdown",
   "id": "1dd4afea",
   "metadata": {},
   "source": [
    "## 배스트앨범(1,0)\n",
    "[문제 링크](https://school.programmers.co.kr/learn/courses/30/lessons/42579)  "
   ]
  },
  {
   "cell_type": "code",
   "execution_count": null,
   "id": "9471484f",
   "metadata": {},
   "outputs": [],
   "source": [
    "def solution(genres, plays):\n",
    "    genre_cnt = {}\n",
    "    genre_idx_play = {}\n",
    "    for idx, (genre, play) in enumerate(zip(genres, plays)):\n",
    "        if genre not in genre_idx_play.keys():\n",
    "            genre_idx_play[genre] = [[play, idx]]\n",
    "            genre_cnt[genre] = play\n",
    "        else:\n",
    "            genre_idx_play[genre].append([play, idx])\n",
    "            genre_cnt[genre] += play\n",
    "    \n",
    "    genre_cnt = sorted(genre_cnt.items(), key=lambda x:x[1], reverse=True)\n",
    "    \n",
    "    sorted_genre_idx_play = {}\n",
    "    for key, value in genre_idx_play.items():\n",
    "        sorted_value = sorted(value, key=lambda x:x[0], reverse=True)\n",
    "        sorted_genre_idx_play[key] = sorted_value\n",
    "    \n",
    "    answer = []\n",
    "    for genre, _ in genre_cnt:\n",
    "        if len(sorted_genre_idx_play[genre])>=2:\n",
    "            k = sorted_genre_idx_play[genre][:2]\n",
    "            answer.extend([k[0][1], k[1][1]])\n",
    "        else:\n",
    "            k = sorted_genre_idx_play[genre] # 이부분 틀림\n",
    "            answer.append(k[0][1])\n",
    "        \n",
    "    return answer\n",
    "\n",
    "\n",
    "## 더 좋은답\n",
    "def solution(genres, plays):\n",
    "    genre_cnt = {}\n",
    "    genre_idx_play = {}\n",
    "    for idx, (genre, play) in enumerate(zip(genres, plays)):\n",
    "        if genre not in genre_idx_play.keys():\n",
    "            genre_idx_play[genre] = [[play, idx]]\n",
    "            genre_cnt[genre] = play\n",
    "        else:\n",
    "            genre_idx_play[genre].append([play, idx])\n",
    "            genre_cnt[genre] += play\n",
    "    \n",
    "    genre_cnt = sorted(genre_cnt.items(), key=lambda x:x[1], reverse=True)\n",
    "    \n",
    "    sorted_genre_idx_play = {}\n",
    "    for key, value in genre_idx_play.items():\n",
    "        sorted_value = sorted(value, key=lambda x:x[0], reverse=True)\n",
    "        sorted_genre_idx_play[key] = sorted_value\n",
    "    \n",
    "    answer = []\n",
    "    for genre, _ in genre_cnt:\n",
    "        picks = sorted_genre_idx_play[genre][:2] # 이 부분이 인덱스 벗어나도 오류가 안생김 깔끔\n",
    "        answer.extend(idx for _, idx in picks)\n",
    "        \n",
    "    return answer"
   ]
  }
 ],
 "metadata": {
  "kernelspec": {
   "display_name": "venv",
   "language": "python",
   "name": "python3"
  },
  "language_info": {
   "codemirror_mode": {
    "name": "ipython",
    "version": 3
   },
   "file_extension": ".py",
   "mimetype": "text/x-python",
   "name": "python",
   "nbconvert_exporter": "python",
   "pygments_lexer": "ipython3",
   "version": "3.11.10"
  }
 },
 "nbformat": 4,
 "nbformat_minor": 5
}
