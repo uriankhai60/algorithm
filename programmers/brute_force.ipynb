{
 "cells": [
  {
   "cell_type": "markdown",
   "id": "9e3361d9",
   "metadata": {},
   "source": [
    "## 최소직사각형(1,0)\n",
    "[문제 링크](https://school.programmers.co.kr/learn/courses/30/lessons/86491)  "
   ]
  },
  {
   "cell_type": "code",
   "execution_count": null,
   "id": "53494bba",
   "metadata": {},
   "outputs": [],
   "source": [
    "def solution(sizes):\n",
    "    max_row = 0\n",
    "    max_col = 0\n",
    "    \n",
    "    # 가로가 길게 정렬을 한번 하고\n",
    "    for size in sizes:\n",
    "        if size[0] <= size[1]:\n",
    "            if max_row <= size[1]:\n",
    "                max_row = size[1]\n",
    "            if max_col <= size[0]:\n",
    "                max_col = size[0]\n",
    "        else:\n",
    "            if max_row <= size[0]:\n",
    "                max_row = size[0]\n",
    "            if max_col <= size[1]:\n",
    "                max_col = size[1]\n",
    "        \n",
    "    answer = max_row*max_col\n",
    "    return answer"
   ]
  },
  {
   "cell_type": "code",
   "execution_count": null,
   "id": "9f5e8a5b",
   "metadata": {},
   "outputs": [],
   "source": [
    "# 단축한 코드라인\n",
    "def solution(sizes):\n",
    "    max_row = 0\n",
    "    max_col = 0\n",
    "    \n",
    "    for size in sizes:\n",
    "        if size[0] <= size[1]:\n",
    "            max_row = max(max_row, size[1])\n",
    "            max_col = max(max_col, size[0])\n",
    "        else:\n",
    "            max_row = max(max_row, size[0])\n",
    "            max_col = max(max_col, size[1])\n",
    "    \n",
    "    answer = max_row*max_col\n",
    "    return answer"
   ]
  },
  {
   "cell_type": "markdown",
   "id": "87d00abe",
   "metadata": {},
   "source": [
    "## 모의고사(1,0)\n",
    "[문제 링크](https://school.programmers.co.kr/learn/courses/30/lessons/42840)  "
   ]
  },
  {
   "cell_type": "code",
   "execution_count": null,
   "id": "49d5acec",
   "metadata": {},
   "outputs": [],
   "source": [
    "def solution(answers):\n",
    "    person1=[1,2,3,4,5]\n",
    "    person2=[2,1,2,3,2,4,2,5]\n",
    "    person3=[3,3,1,1,2,2,4,4,5,5]\n",
    "    \n",
    "    repeat1 = len(answers) // len(person1) + 1\n",
    "    repeat2 = len(answers) // len(person2) + 1\n",
    "    repeat3 = len(answers) // len(person3) + 1\n",
    "    \n",
    "    a = person1*repeat1\n",
    "    b = person2*repeat2\n",
    "    c = person3*repeat3\n",
    "    \n",
    "    a_s = sum([True for a,i in zip(answers, a) if a==i])\n",
    "    b_s = sum([True for a,i in zip(answers, b) if a==i])\n",
    "    c_s = sum([True for a,i in zip(answers, c) if a==i])\n",
    "    \n",
    "    answer = []\n",
    "    if a_s == max([a_s, b_s, c_s]):\n",
    "        answer.append(1)\n",
    "    if b_s == max([a_s, b_s, c_s]):\n",
    "        answer.append(2)\n",
    "    if c_s == max([a_s, b_s, c_s]):\n",
    "        answer.append(3)\n",
    "    \n",
    "    return answer"
   ]
  }
 ],
 "metadata": {
  "kernelspec": {
   "display_name": "venv",
   "language": "python",
   "name": "python3"
  },
  "language_info": {
   "name": "python",
   "version": "3.11.10"
  }
 },
 "nbformat": 4,
 "nbformat_minor": 5
}
