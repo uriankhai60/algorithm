{
 "cells": [
  {
   "cell_type": "markdown",
   "id": "9e3361d9",
   "metadata": {},
   "source": [
    "## 최소직사각형(1,0)\n",
    "[문제 링크](https://school.programmers.co.kr/learn/courses/30/lessons/86491)  "
   ]
  },
  {
   "cell_type": "code",
   "execution_count": null,
   "id": "53494bba",
   "metadata": {},
   "outputs": [],
   "source": [
    "def solution(sizes):\n",
    "    max_row = 0\n",
    "    max_col = 0\n",
    "    \n",
    "    # 가로가 길게 정렬을 한번 하고\n",
    "    for size in sizes:\n",
    "        if size[0] <= size[1]:\n",
    "            if max_row <= size[1]:\n",
    "                max_row = size[1]\n",
    "            if max_col <= size[0]:\n",
    "                max_col = size[0]\n",
    "        else:\n",
    "            if max_row <= size[0]:\n",
    "                max_row = size[0]\n",
    "            if max_col <= size[1]:\n",
    "                max_col = size[1]\n",
    "        \n",
    "    answer = max_row*max_col\n",
    "    return answer"
   ]
  },
  {
   "cell_type": "code",
   "execution_count": null,
   "id": "9f5e8a5b",
   "metadata": {},
   "outputs": [],
   "source": [
    "# 단축한 코드라인\n",
    "def solution(sizes):\n",
    "    max_row = 0\n",
    "    max_col = 0\n",
    "    \n",
    "    for size in sizes:\n",
    "        if size[0] <= size[1]:\n",
    "            max_row = max(max_row, size[1])\n",
    "            max_col = max(max_col, size[0])\n",
    "        else:\n",
    "            max_row = max(max_row, size[0])\n",
    "            max_col = max(max_col, size[1])\n",
    "    \n",
    "    answer = max_row*max_col\n",
    "    return answer"
   ]
  },
  {
   "cell_type": "markdown",
   "id": "87d00abe",
   "metadata": {},
   "source": [
    "## 모의고사(1,0)\n",
    "[문제 링크](https://school.programmers.co.kr/learn/courses/30/lessons/42840)  "
   ]
  },
  {
   "cell_type": "code",
   "execution_count": null,
   "id": "49d5acec",
   "metadata": {},
   "outputs": [],
   "source": [
    "def solution(answers):\n",
    "    person1=[1,2,3,4,5]\n",
    "    person2=[2,1,2,3,2,4,2,5]\n",
    "    person3=[3,3,1,1,2,2,4,4,5,5]\n",
    "    \n",
    "    repeat1 = len(answers) // len(person1) + 1\n",
    "    repeat2 = len(answers) // len(person2) + 1\n",
    "    repeat3 = len(answers) // len(person3) + 1\n",
    "    \n",
    "    a = person1*repeat1\n",
    "    b = person2*repeat2\n",
    "    c = person3*repeat3\n",
    "    \n",
    "    a_s = sum([True for a,i in zip(answers, a) if a==i])\n",
    "    b_s = sum([True for a,i in zip(answers, b) if a==i])\n",
    "    c_s = sum([True for a,i in zip(answers, c) if a==i])\n",
    "    \n",
    "    answer = []\n",
    "    if a_s == max([a_s, b_s, c_s]):\n",
    "        answer.append(1)\n",
    "    if b_s == max([a_s, b_s, c_s]):\n",
    "        answer.append(2)\n",
    "    if c_s == max([a_s, b_s, c_s]):\n",
    "        answer.append(3)\n",
    "    \n",
    "    return answer"
   ]
  },
  {
   "cell_type": "markdown",
   "id": "23e36e3a",
   "metadata": {},
   "source": [
    "## 소수 찾기(1,0)\n",
    "[문제 링크](https://school.programmers.co.kr/learn/courses/30/lessons/42839)  "
   ]
  },
  {
   "cell_type": "code",
   "execution_count": null,
   "id": "53d5cc0e",
   "metadata": {},
   "outputs": [],
   "source": [
    "import math\n",
    "import itertools\n",
    "\n",
    "def is_prime(num:int):\n",
    "    for i in range(2, int(math.sqrt(num))+1):\n",
    "        if int(num%i) == 0:\n",
    "            return False\n",
    "    return True\n",
    "\n",
    "def solution(numbers):\n",
    "    # 가능한 케이스들 생성\n",
    "    cases = []\n",
    "    for k in range(len(numbers)+1):\n",
    "        if k==0:\n",
    "            continue\n",
    "        case = list(itertools.permutations(numbers, r=k))\n",
    "        case = [int(''.join(c)) for c in case if c != '']\n",
    "        cases.extend(case)\n",
    "    \n",
    "    # 소수 점검\n",
    "    cases = list(set(cases))\n",
    "    cnt = 0\n",
    "    for num in cases:\n",
    "        if num == 0 or num==1:\n",
    "            continue\n",
    "    \n",
    "        if is_prime(num):\n",
    "            cnt+=1\n",
    "    answer = cnt\n",
    "    return answer"
   ]
  },
  {
   "cell_type": "markdown",
   "id": "eec8234b",
   "metadata": {},
   "source": [
    "## 카펫(1,0)\n",
    "[문제 링크](https://school.programmers.co.kr/learn/courses/30/lessons/42842)  "
   ]
  },
  {
   "cell_type": "code",
   "execution_count": null,
   "id": "0cb676c2",
   "metadata": {},
   "outputs": [],
   "source": [
    "def solution(brown, yellow):\n",
    "    for y_w in range(yellow, 0, -1):\n",
    "        mod_ = yellow % y_w\n",
    "        if int(mod_) != 0:\n",
    "            continue\n",
    "        y_h = int(yellow//y_w)\n",
    "        if max(y_w, y_h) != y_w:\n",
    "            break\n",
    "        b_w = y_w + 2\n",
    "        b_h = y_h + 2\n",
    "        brown_ = b_w*2 + b_h*2 - 4\n",
    "        if brown_ == brown:\n",
    "            answer = [b_w, b_h]\n",
    "            break\n",
    "        \n",
    "    return answer"
   ]
  }
 ],
 "metadata": {
  "kernelspec": {
   "display_name": "venv",
   "language": "python",
   "name": "python3"
  },
  "language_info": {
   "name": "python",
   "version": "3.11.10"
  }
 },
 "nbformat": 4,
 "nbformat_minor": 5
}
