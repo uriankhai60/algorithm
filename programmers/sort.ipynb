{
 "cells": [
  {
   "cell_type": "markdown",
   "id": "9fda0bf8",
   "metadata": {},
   "source": [
    "## K번째수(1,0)\n",
    "[문제 링크](https://school.programmers.co.kr/learn/courses/30/lessons/42748)  "
   ]
  },
  {
   "cell_type": "code",
   "execution_count": null,
   "id": "4bffca47",
   "metadata": {},
   "outputs": [],
   "source": [
    "def solution(array, commands):\n",
    "    \n",
    "    answer = []\n",
    "    \n",
    "    for command in commands:\n",
    "        i,j,k = command\n",
    "        i=i-1\n",
    "        j=j\n",
    "        k=k-1\n",
    "        new_list = sorted(array[i:j])\n",
    "        answer.append(new_list[k])\n",
    "    \n",
    "    return answer"
   ]
  },
  {
   "cell_type": "markdown",
   "id": "76f045ff",
   "metadata": {},
   "source": [
    "## 가장 큰 수(0,1)\n",
    "[문제 링크](https://school.programmers.co.kr/learn/courses/30/lessons/42746)  "
   ]
  },
  {
   "cell_type": "markdown",
   "id": "ec8fc231",
   "metadata": {},
   "source": [
    "파이썬의 `key=cmp_to_key(cmp)`을 사용해서 푸는것이 편합니다.  \n",
    "이것을 사용하기 위해서는 먼저 `import functools import cmp_to_key`를 임포트해야 합니다.  \n",
    "임포트후 cmp_to_key에 커스텀 함수를 넣어주면 되는데.  \n",
    "이 함수는 두가지 비교할 두가지 원소의 앞과 뒤를 판단하는 로직을 넣으면 됩니다.  \n",
    "`def cmp(a,b):`에서 a,b의 원소가 들어왔다고 가정하고  \n",
    "a가 앞에 오는 경우면 -1  \n",
    "b가 앞에 오는 경우면 +1을 하면 됩니다.  \n",
    "무관하여 상관없는 경우는 0을 리턴하면 됩니다.  \n",
    "  \n",
    "예를들어 sort(key=cmp_to_key(cmp))로 reverse=True와 같은 로직을 만들고 싶은 경우  \n",
    "```python\n",
    "def cmp(a, b):\n",
    "    if a>b:\n",
    "        return -1\n",
    "    elif a<b:\n",
    "        return +1\n",
    "    elif a==b:\n",
    "        return 0\n",
    "```"
   ]
  },
  {
   "cell_type": "code",
   "execution_count": null,
   "id": "daa97d5c",
   "metadata": {},
   "outputs": [],
   "source": [
    "from functools import cmp_to_key\n",
    "\n",
    "def solution(numbers):\n",
    "    nums = [str(i) for i in numbers]\n",
    "    \n",
    "    # 비교규칙\n",
    "    def cmp(a, b):\n",
    "        if a+b > b+a: # 큰것이 앞에가도록\n",
    "            return -1\n",
    "        elif a+b < b+a: # b가 뒤에가도록\n",
    "            return +1\n",
    "        else: # 놔두거나\n",
    "            return 0\n",
    "\n",
    "    nums.sort(key=cmp_to_key(cmp))\n",
    "    \n",
    "    if nums[0] == '0':\n",
    "        return '0'\n",
    "    answer = ''.join(nums)\n",
    "    return answer"
   ]
  }
 ],
 "metadata": {
  "kernelspec": {
   "display_name": "venv",
   "language": "python",
   "name": "python3"
  },
  "language_info": {
   "name": "python",
   "version": "3.11.10"
  }
 },
 "nbformat": 4,
 "nbformat_minor": 5
}
